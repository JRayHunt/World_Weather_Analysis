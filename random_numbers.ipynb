{
 "cells": [
  {
   "cell_type": "code",
   "execution_count": 1,
   "metadata": {},
   "outputs": [],
   "source": [
    "# Import the random module.\n",
    "import random"
   ]
  },
  {
   "cell_type": "code",
   "execution_count": 2,
   "metadata": {},
   "outputs": [
    {
     "data": {
      "text/plain": [
       "58"
      ]
     },
     "execution_count": 2,
     "metadata": {},
     "output_type": "execute_result"
    }
   ],
   "source": [
    "# random.randint() will not return a float\n",
    "random.randint(-90,90)"
   ]
  },
  {
   "cell_type": "code",
   "execution_count": 3,
   "metadata": {},
   "outputs": [
    {
     "data": {
      "text/plain": [
       "0.0036251461327905243"
      ]
     },
     "execution_count": 3,
     "metadata": {},
     "output_type": "execute_result"
    }
   ],
   "source": [
    "# random.random() returns a float and will not return an integer\n",
    "random.random()"
   ]
  },
  {
   "cell_type": "code",
   "execution_count": 4,
   "metadata": {},
   "outputs": [
    {
     "data": {
      "text/plain": [
       "-45.93903041390647"
      ]
     },
     "execution_count": 4,
     "metadata": {},
     "output_type": "execute_result"
    }
   ],
   "source": [
    "# Combine random.randint() and random.random() to generate a floating-point decimal between -90 and 90\n",
    "# this will help us generate latitudes between -89.99999 and 89.99999\n",
    "random_number = random.randint(-90, 89) + random.random()\n",
    "random_number"
   ]
  },
  {
   "cell_type": "code",
   "execution_count": 5,
   "metadata": {},
   "outputs": [],
   "source": [
    "# Example code to generate ten random floating-point decimal latitudes between –90 and 89.\n",
    "# create the counter\n",
    "x = 1\n",
    "# create an empty list\n",
    "latitudes = []\n",
    "while x<11:\n",
    "    random_lat = random.randint(-90, 89) + random.random()\n",
    "    # add the random number to the list\n",
    "    latitudes.append(random_lat)\n",
    "    #increment the counter\n",
    "    x+=1"
   ]
  },
  {
   "cell_type": "code",
   "execution_count": 6,
   "metadata": {},
   "outputs": [
    {
     "data": {
      "text/plain": [
       "-87"
      ]
     },
     "execution_count": 6,
     "metadata": {},
     "output_type": "execute_result"
    }
   ],
   "source": [
    "# Get random longitudes between -180 and 180 using the randrange() function\n",
    "# randrange returns a whole integer and will not return a float \n",
    "# note that the randrange() function takes a step parameter that needs to be an int\n",
    "# default step value is '1'\n",
    "random.randrange(-90,90, step=3)\n",
    "# Consider combining random.randrange() and random.random() to generate a floating point decimal \n",
    "# between -90 and 90"
   ]
  },
  {
   "cell_type": "raw",
   "metadata": {},
   "source": []
  },
  {
   "cell_type": "code",
   "execution_count": 7,
   "metadata": {},
   "outputs": [
    {
     "data": {
      "text/plain": [
       "-38.69440201431955"
      ]
     },
     "execution_count": 7,
     "metadata": {},
     "output_type": "execute_result"
    }
   ],
   "source": [
    "# uniform() function generates a float between two given numbers. will not generate a whole int\n",
    "random.uniform(-90, 90)"
   ]
  },
  {
   "cell_type": "code",
   "execution_count": 9,
   "metadata": {},
   "outputs": [],
   "source": [
    "# Import the NumPy module. Numpy has a built in random module\n",
    "import numpy as np"
   ]
  },
  {
   "cell_type": "code",
   "execution_count": 10,
   "metadata": {},
   "outputs": [
    {
     "data": {
      "text/plain": [
       "array([-77.91459689, -51.87572716,  83.97536624,  41.20668771,\n",
       "        36.79873517,  72.03777233,  84.76147666, -32.04121481,\n",
       "       -31.96205032, -71.16768722,  64.85882989,  -6.19067152,\n",
       "        32.34857274, -55.66533531,  63.36611912,  57.07483131,\n",
       "        70.97963946,  40.13155952,  43.81750062,  40.656666  ,\n",
       "       -21.20825397,  31.57949533,  35.61760904,   6.1171286 ,\n",
       "       -55.99617555,  55.08944758,  43.36737267, -60.30649868,\n",
       "        89.14354798, -28.64615205, -27.9881315 , -73.44323334,\n",
       "        29.03368009, -20.61513767, -57.51115243,  52.68765863,\n",
       "        47.76367748, -44.22219504,  -9.02343077,  11.47636121,\n",
       "        24.83773439,  66.14075767, -75.44181244,  61.10410917,\n",
       "        84.85906053,  78.64317217,  12.89348486,  20.96590676,\n",
       "       -49.16298136, -43.34280972])"
      ]
     },
     "execution_count": 10,
     "metadata": {},
     "output_type": "execute_result"
    }
   ],
   "source": [
    "# Create an array of 50 random float values\n",
    "np.random.uniform(-90.000, 90.000, size=50)"
   ]
  },
  {
   "cell_type": "code",
   "execution_count": 11,
   "metadata": {},
   "outputs": [
    {
     "name": "stdout",
     "output_type": "stream",
     "text": [
      "25.5 µs ± 3.33 µs per loop (mean ± std. dev. of 7 runs, 10000 loops each)\n"
     ]
    }
   ],
   "source": [
    "# test what is faster\n",
    "# Import timeit.\n",
    "import timeit\n",
    "%timeit np.random.uniform(-90.000, 90.000, size=1500)"
   ]
  },
  {
   "cell_type": "code",
   "execution_count": 12,
   "metadata": {},
   "outputs": [
    {
     "name": "stdout",
     "output_type": "stream",
     "text": [
      "3.15 ms ± 374 µs per loop (mean ± std. dev. of 7 runs, 100 loops each)\n"
     ]
    }
   ],
   "source": [
    "def latitudes(size):\n",
    "    latitudes = []\n",
    "    x = 0\n",
    "    while x < (size):\n",
    "        random_lat = random.randint(-90, 90) + random.random()\n",
    "        latitudes.append(random_lat)\n",
    "        x += 1\n",
    "    return latitudes\n",
    "# Call the function with 1500.\n",
    "%timeit latitudes(1500)"
   ]
  },
  {
   "cell_type": "code",
   "execution_count": null,
   "metadata": {},
   "outputs": [],
   "source": []
  }
 ],
 "metadata": {
  "kernelspec": {
   "display_name": "PythonDat",
   "language": "python",
   "name": "pythondat"
  },
  "language_info": {
   "codemirror_mode": {
    "name": "ipython",
    "version": 3
   },
   "file_extension": ".py",
   "mimetype": "text/x-python",
   "name": "python",
   "nbconvert_exporter": "python",
   "pygments_lexer": "ipython3",
   "version": "3.7.7"
  }
 },
 "nbformat": 4,
 "nbformat_minor": 4
}
