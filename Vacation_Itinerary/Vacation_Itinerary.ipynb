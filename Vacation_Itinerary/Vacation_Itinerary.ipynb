{
 "cells": [
  {
   "cell_type": "markdown",
   "metadata": {},
   "source": [
    "## Deliverable 3. Create a Travel Itinerary Map."
   ]
  },
  {
   "cell_type": "code",
   "execution_count": 2,
   "metadata": {},
   "outputs": [],
   "source": [
    "# Dependencies and Setup\n",
    "import pandas as pd\n",
    "import requests\n",
    "import gmaps\n",
    "import gmaps.datasets\n",
    "\n",
    "# Import API key\n",
    "from config import g_key\n",
    "\n",
    "# Configure gmaps\n",
    "gmaps.configure(api_key=g_key)"
   ]
  },
  {
   "cell_type": "code",
   "execution_count": 3,
   "metadata": {},
   "outputs": [
    {
     "data": {
      "text/html": [
       "<div>\n",
       "<style scoped>\n",
       "    .dataframe tbody tr th:only-of-type {\n",
       "        vertical-align: middle;\n",
       "    }\n",
       "\n",
       "    .dataframe tbody tr th {\n",
       "        vertical-align: top;\n",
       "    }\n",
       "\n",
       "    .dataframe thead th {\n",
       "        text-align: right;\n",
       "    }\n",
       "</style>\n",
       "<table border=\"1\" class=\"dataframe\">\n",
       "  <thead>\n",
       "    <tr style=\"text-align: right;\">\n",
       "      <th></th>\n",
       "      <th>City_ID</th>\n",
       "      <th>City</th>\n",
       "      <th>Country</th>\n",
       "      <th>Max Temp</th>\n",
       "      <th>Current Description</th>\n",
       "      <th>Lat</th>\n",
       "      <th>Lng</th>\n",
       "      <th>Hotel Name</th>\n",
       "    </tr>\n",
       "  </thead>\n",
       "  <tbody>\n",
       "    <tr>\n",
       "      <th>0</th>\n",
       "      <td>1386</td>\n",
       "      <td>Morant Bay</td>\n",
       "      <td>JM</td>\n",
       "      <td>80.60</td>\n",
       "      <td>thunderstorm</td>\n",
       "      <td>17.88</td>\n",
       "      <td>-76.41</td>\n",
       "      <td>Whispering Bamboo Cove Resort</td>\n",
       "    </tr>\n",
       "    <tr>\n",
       "      <th>1</th>\n",
       "      <td>1393</td>\n",
       "      <td>Labuhan</td>\n",
       "      <td>ID</td>\n",
       "      <td>86.85</td>\n",
       "      <td>broken clouds</td>\n",
       "      <td>-6.88</td>\n",
       "      <td>112.21</td>\n",
       "      <td>bador sepret</td>\n",
       "    </tr>\n",
       "    <tr>\n",
       "      <th>2</th>\n",
       "      <td>1396</td>\n",
       "      <td>Moree</td>\n",
       "      <td>AU</td>\n",
       "      <td>78.80</td>\n",
       "      <td>clear sky</td>\n",
       "      <td>-29.47</td>\n",
       "      <td>149.85</td>\n",
       "      <td>Molika Springs Motel</td>\n",
       "    </tr>\n",
       "    <tr>\n",
       "      <th>3</th>\n",
       "      <td>1401</td>\n",
       "      <td>Vaini</td>\n",
       "      <td>TO</td>\n",
       "      <td>80.60</td>\n",
       "      <td>few clouds</td>\n",
       "      <td>-21.20</td>\n",
       "      <td>-175.20</td>\n",
       "      <td>Keleti Beach Resort</td>\n",
       "    </tr>\n",
       "    <tr>\n",
       "      <th>4</th>\n",
       "      <td>1405</td>\n",
       "      <td>Georgetown</td>\n",
       "      <td>MY</td>\n",
       "      <td>82.40</td>\n",
       "      <td>moderate rain</td>\n",
       "      <td>5.41</td>\n",
       "      <td>100.34</td>\n",
       "      <td>Cititel Penang</td>\n",
       "    </tr>\n",
       "  </tbody>\n",
       "</table>\n",
       "</div>"
      ],
      "text/plain": [
       "   City_ID        City Country  Max Temp Current Description    Lat     Lng  \\\n",
       "0     1386  Morant Bay      JM     80.60        thunderstorm  17.88  -76.41   \n",
       "1     1393     Labuhan      ID     86.85       broken clouds  -6.88  112.21   \n",
       "2     1396       Moree      AU     78.80           clear sky -29.47  149.85   \n",
       "3     1401       Vaini      TO     80.60          few clouds -21.20 -175.20   \n",
       "4     1405  Georgetown      MY     82.40       moderate rain   5.41  100.34   \n",
       "\n",
       "                      Hotel Name  \n",
       "0  Whispering Bamboo Cove Resort  \n",
       "1                   bador sepret  \n",
       "2           Molika Springs Motel  \n",
       "3            Keleti Beach Resort  \n",
       "4                 Cititel Penang  "
      ]
     },
     "execution_count": 3,
     "metadata": {},
     "output_type": "execute_result"
    }
   ],
   "source": [
    "# 1. Read the WeatherPy_vacation.csv into a DataFrame.\n",
    "vacation_df = pd.read_csv(\"../Vacation_Search/WeatherPy_vacation.csv\")\n",
    "vacation_df.head()"
   ]
  },
  {
   "cell_type": "code",
   "execution_count": 6,
   "metadata": {},
   "outputs": [],
   "source": [
    "# 2. Using the template add the city name, the country code, the weather description and maximum temperature for the city.\n",
    "info_box_template = \"\"\"\n",
    "<dl>\n",
    "<dt>City</dt><dd>{City}</dd>\n",
    "<dt>Country</dt><dd>{Country}</dd>\n",
    "<dt>Current Description</dt><dd>{Current Description}\n",
    "<dt>Max Temp</dt><dd>{Max Temp} °F</dd>\n",
    "</dl>\n",
    "\"\"\"\n",
    "\n",
    "# 3a. Get the data from each row and add it to the formatting template and store the data in a list.\n",
    "hotel_info = [info_box_template.format(**row) for index, row in vacation_df.iterrows()]\n",
    "\n",
    "# 3b. Get the latitude and longitude from each row and store in a new DataFrame.\n",
    "locations = vacation_df[[\"Lat\", \"Lng\"]]"
   ]
  },
  {
   "cell_type": "code",
   "execution_count": 7,
   "metadata": {},
   "outputs": [
    {
     "data": {
      "application/vnd.jupyter.widget-view+json": {
       "model_id": "9ad71abf9f544aa1b338fecf5cff188e",
       "version_major": 2,
       "version_minor": 0
      },
      "text/plain": [
       "Figure(layout=FigureLayout(height='420px'))"
      ]
     },
     "metadata": {},
     "output_type": "display_data"
    }
   ],
   "source": [
    "# 4a. Add a marker layer for each city to the map.\n",
    "max_temp = vacation_df[\"Max Temp\"]\n",
    "fig = gmaps.figure(center=(30.0, 31.0), zoom_level=1.5)\n",
    "heat_layer = gmaps.heatmap_layer(locations, weights=max_temp,dissipating=False,\n",
    "             max_intensity=300, point_radius=4)\n",
    "marker_layer = gmaps.marker_layer(locations, info_box_content=hotel_info)\n",
    "fig.add_layer(heat_layer)\n",
    "fig.add_layer(marker_layer)\n",
    "\n",
    "# 4b. Display the figure\n",
    "fig"
   ]
  },
  {
   "cell_type": "code",
   "execution_count": 26,
   "metadata": {},
   "outputs": [],
   "source": [
    "# From the map above pick 4 cities and create a vacation itinerary route to travel between the four cities. \n",
    "# 5. Create DataFrames for each city by filtering the 'vacation_df' using the loc method. \n",
    "# Hint: The starting and ending city should be the same city.\n",
    "\n",
    "vacation_start = vacation_df.loc[(vacation_df[\"City\"] == \"Victoria Point\") & (vacation_df[\"Country\"] == \"AU\")]\n",
    "vacation_end = vacation_df.loc[(vacation_df[\"City\"] == \"Victoria Point\") & (vacation_df[\"Country\"] == \"AU\")]\n",
    "vacation_stop1 = vacation_df.loc[(vacation_df[\"City\"] == \"Emerald\") & (vacation_df[\"Country\"] == \"AU\")]\n",
    "vacation_stop2 = vacation_df.loc[(vacation_df[\"City\"] == \"Charters Towers\") & (vacation_df[\"Country\"] == \"AU\")] \n",
    "vacation_stop3 = vacation_df.loc[(vacation_df[\"City\"] == \"Mareeba\") & (vacation_df[\"Country\"] == \"AU\")] "
   ]
  },
  {
   "cell_type": "code",
   "execution_count": 32,
   "metadata": {},
   "outputs": [],
   "source": [
    "# 6. Get the latitude-longitude pairs as tuples from each city DataFrame using the to_numpy function and list indexing.\n",
    "start = vacation_start[[\"Lat\", \"Lng\"]].to_numpy()[0]\n",
    "end = vacation_end[[\"Lat\", \"Lng\"]].to_numpy()[0]\n",
    "stop1 = vacation_stop1[[\"Lat\", \"Lng\"]].to_numpy()[0] \n",
    "stop2 = vacation_stop2[[\"Lat\", \"Lng\"]].to_numpy()[0]\n",
    "stop3 = vacation_stop3[[\"Lat\", \"Lng\"]].to_numpy()[0]"
   ]
  },
  {
   "cell_type": "code",
   "execution_count": 38,
   "metadata": {
    "scrolled": true
   },
   "outputs": [
    {
     "data": {
      "application/vnd.jupyter.widget-view+json": {
       "model_id": "0f6d7256828441a6834fdb91f71c1817",
       "version_major": 2,
       "version_minor": 0
      },
      "text/plain": [
       "Figure(layout=FigureLayout(height='420px'))"
      ]
     },
     "metadata": {},
     "output_type": "display_data"
    }
   ],
   "source": [
    "# 7. Create a direction layer map using the start and end latitude-longitude pairs,\n",
    "# and stop1, stop2, and stop3 as the waypoints. The travel_mode should be \"DRIVING\", \"BICYCLING\", or \"WALKING\".\n",
    "fig = gmaps.figure()\n",
    "walk_about = gmaps.directions_layer(\n",
    "        start, end, waypoints=[stop1,stop2,stop3],\n",
    "        travel_mode='DRIVING')\n",
    "fig.add_layer(walk_about)\n",
    "fig\n"
   ]
  },
  {
   "cell_type": "code",
   "execution_count": 39,
   "metadata": {},
   "outputs": [
    {
     "data": {
      "text/html": [
       "<div>\n",
       "<style scoped>\n",
       "    .dataframe tbody tr th:only-of-type {\n",
       "        vertical-align: middle;\n",
       "    }\n",
       "\n",
       "    .dataframe tbody tr th {\n",
       "        vertical-align: top;\n",
       "    }\n",
       "\n",
       "    .dataframe thead th {\n",
       "        text-align: right;\n",
       "    }\n",
       "</style>\n",
       "<table border=\"1\" class=\"dataframe\">\n",
       "  <thead>\n",
       "    <tr style=\"text-align: right;\">\n",
       "      <th></th>\n",
       "      <th>City_ID</th>\n",
       "      <th>City</th>\n",
       "      <th>Country</th>\n",
       "      <th>Max Temp</th>\n",
       "      <th>Current Description</th>\n",
       "      <th>Lat</th>\n",
       "      <th>Lng</th>\n",
       "      <th>Hotel Name</th>\n",
       "    </tr>\n",
       "  </thead>\n",
       "  <tbody>\n",
       "    <tr>\n",
       "      <th>0</th>\n",
       "      <td>1806</td>\n",
       "      <td>Victoria Point</td>\n",
       "      <td>AU</td>\n",
       "      <td>75.99</td>\n",
       "      <td>scattered clouds</td>\n",
       "      <td>-27.58</td>\n",
       "      <td>153.30</td>\n",
       "      <td>Bay Retreat Motel</td>\n",
       "    </tr>\n",
       "    <tr>\n",
       "      <th>1</th>\n",
       "      <td>2496</td>\n",
       "      <td>Victoria Point</td>\n",
       "      <td>AU</td>\n",
       "      <td>75.99</td>\n",
       "      <td>scattered clouds</td>\n",
       "      <td>-27.58</td>\n",
       "      <td>153.30</td>\n",
       "      <td>Bay Retreat Motel</td>\n",
       "    </tr>\n",
       "    <tr>\n",
       "      <th>2</th>\n",
       "      <td>1806</td>\n",
       "      <td>Victoria Point</td>\n",
       "      <td>AU</td>\n",
       "      <td>75.99</td>\n",
       "      <td>scattered clouds</td>\n",
       "      <td>-27.58</td>\n",
       "      <td>153.30</td>\n",
       "      <td>Bay Retreat Motel</td>\n",
       "    </tr>\n",
       "    <tr>\n",
       "      <th>3</th>\n",
       "      <td>2496</td>\n",
       "      <td>Victoria Point</td>\n",
       "      <td>AU</td>\n",
       "      <td>75.99</td>\n",
       "      <td>scattered clouds</td>\n",
       "      <td>-27.58</td>\n",
       "      <td>153.30</td>\n",
       "      <td>Bay Retreat Motel</td>\n",
       "    </tr>\n",
       "    <tr>\n",
       "      <th>4</th>\n",
       "      <td>1960</td>\n",
       "      <td>Emerald</td>\n",
       "      <td>AU</td>\n",
       "      <td>78.80</td>\n",
       "      <td>broken clouds</td>\n",
       "      <td>-23.53</td>\n",
       "      <td>148.17</td>\n",
       "      <td>The Irish Village</td>\n",
       "    </tr>\n",
       "    <tr>\n",
       "      <th>5</th>\n",
       "      <td>2649</td>\n",
       "      <td>Emerald</td>\n",
       "      <td>AU</td>\n",
       "      <td>78.80</td>\n",
       "      <td>broken clouds</td>\n",
       "      <td>-23.53</td>\n",
       "      <td>148.17</td>\n",
       "      <td>The Irish Village</td>\n",
       "    </tr>\n",
       "    <tr>\n",
       "      <th>6</th>\n",
       "      <td>1483</td>\n",
       "      <td>Charters Towers</td>\n",
       "      <td>AU</td>\n",
       "      <td>86.34</td>\n",
       "      <td>broken clouds</td>\n",
       "      <td>-20.10</td>\n",
       "      <td>146.27</td>\n",
       "      <td>Cattleman's Rest Motor Inn</td>\n",
       "    </tr>\n",
       "    <tr>\n",
       "      <th>7</th>\n",
       "      <td>2173</td>\n",
       "      <td>Charters Towers</td>\n",
       "      <td>AU</td>\n",
       "      <td>86.34</td>\n",
       "      <td>broken clouds</td>\n",
       "      <td>-20.10</td>\n",
       "      <td>146.27</td>\n",
       "      <td>Cattleman's Rest Motor Inn</td>\n",
       "    </tr>\n",
       "    <tr>\n",
       "      <th>8</th>\n",
       "      <td>2022</td>\n",
       "      <td>Mareeba</td>\n",
       "      <td>AU</td>\n",
       "      <td>87.80</td>\n",
       "      <td>few clouds</td>\n",
       "      <td>-17.00</td>\n",
       "      <td>145.43</td>\n",
       "      <td>Trinity Plains Tourist Park</td>\n",
       "    </tr>\n",
       "    <tr>\n",
       "      <th>9</th>\n",
       "      <td>2711</td>\n",
       "      <td>Mareeba</td>\n",
       "      <td>AU</td>\n",
       "      <td>87.80</td>\n",
       "      <td>few clouds</td>\n",
       "      <td>-17.00</td>\n",
       "      <td>145.43</td>\n",
       "      <td>Trinity Plains Tourist Park</td>\n",
       "    </tr>\n",
       "  </tbody>\n",
       "</table>\n",
       "</div>"
      ],
      "text/plain": [
       "   City_ID             City Country  Max Temp Current Description    Lat  \\\n",
       "0     1806   Victoria Point      AU     75.99    scattered clouds -27.58   \n",
       "1     2496   Victoria Point      AU     75.99    scattered clouds -27.58   \n",
       "2     1806   Victoria Point      AU     75.99    scattered clouds -27.58   \n",
       "3     2496   Victoria Point      AU     75.99    scattered clouds -27.58   \n",
       "4     1960          Emerald      AU     78.80       broken clouds -23.53   \n",
       "5     2649          Emerald      AU     78.80       broken clouds -23.53   \n",
       "6     1483  Charters Towers      AU     86.34       broken clouds -20.10   \n",
       "7     2173  Charters Towers      AU     86.34       broken clouds -20.10   \n",
       "8     2022          Mareeba      AU     87.80          few clouds -17.00   \n",
       "9     2711          Mareeba      AU     87.80          few clouds -17.00   \n",
       "\n",
       "      Lng                   Hotel Name  \n",
       "0  153.30            Bay Retreat Motel  \n",
       "1  153.30            Bay Retreat Motel  \n",
       "2  153.30            Bay Retreat Motel  \n",
       "3  153.30            Bay Retreat Motel  \n",
       "4  148.17            The Irish Village  \n",
       "5  148.17            The Irish Village  \n",
       "6  146.27   Cattleman's Rest Motor Inn  \n",
       "7  146.27   Cattleman's Rest Motor Inn  \n",
       "8  145.43  Trinity Plains Tourist Park  \n",
       "9  145.43  Trinity Plains Tourist Park  "
      ]
     },
     "execution_count": 39,
     "metadata": {},
     "output_type": "execute_result"
    }
   ],
   "source": [
    "# 8. To create a marker layer map between the four cities.\n",
    "#  Combine the four city DataFrames into one DataFrame using the concat() function.\n",
    "itinerary_df = pd.concat([vacation_start,vacation_end,vacation_stop1,vacation_stop2,vacation_stop3],ignore_index=True)\n",
    "itinerary_df"
   ]
  },
  {
   "cell_type": "code",
   "execution_count": 47,
   "metadata": {},
   "outputs": [],
   "source": [
    "# 9 Using the template add city name, the country code, the weather description and maximum temperature for the city. \n",
    "info_box_template = \"\"\"\n",
    "<dl>\n",
    "<dt>Hotel Name</dt><dd>{Hotel Name}</dd>\n",
    "<dt>City</dt><dd>{City}</dd>\n",
    "<dt>Country</dt><dd>{Country}</dd>\n",
    "<dt>Current Description</dt><dd>{Current Description}\n",
    "<dt>Max Temp</dt><dd>{Max Temp} °F</dd>\n",
    "</dl>\n",
    "\"\"\"\n",
    "\n",
    "# 10a Get the data from each row and add it to the formatting template and store the data in a list.\n",
    "hotel_info2 = [info_box_template.format(**row) for index, row in itinerary_df.iterrows()]\n",
    "\n",
    "# 10b. Get the latitude and longitude from each row and store in a new DataFrame.\n",
    "locations2 = itinerary_df[[\"Lat\", \"Lng\"]]"
   ]
  },
  {
   "cell_type": "code",
   "execution_count": 51,
   "metadata": {},
   "outputs": [
    {
     "data": {
      "application/vnd.jupyter.widget-view+json": {
       "model_id": "c8a4138e62a14fc897770bb37f69d3da",
       "version_major": 2,
       "version_minor": 0
      },
      "text/plain": [
       "Figure(layout=FigureLayout(height='420px'))"
      ]
     },
     "metadata": {},
     "output_type": "display_data"
    }
   ],
   "source": [
    "# 11a. Add a marker layer for each city to the map.\n",
    "max_temp = itinerary_df[\"Max Temp\"]\n",
    "#fig = gmaps.figure(center=(30.0, 31.0), zoom_level=1.5)\n",
    "fig = gmaps.figure(center=(-27.47, 153.02), zoom_level=4)\n",
    "heat_layer = gmaps.heatmap_layer(locations2, weights=max_temp,dissipating=False,\n",
    "             max_intensity=300, point_radius=4)\n",
    "marker_layer = gmaps.marker_layer(locations2, info_box_content=hotel_info2)\n",
    "fig.add_layer(heat_layer)\n",
    "fig.add_layer(marker_layer)\n",
    "\n",
    "# 11b. Display the figure\n",
    "fig"
   ]
  },
  {
   "cell_type": "code",
   "execution_count": null,
   "metadata": {},
   "outputs": [],
   "source": []
  }
 ],
 "metadata": {
  "kernelspec": {
   "display_name": "PythonDat",
   "language": "python",
   "name": "pythondat"
  },
  "language_info": {
   "codemirror_mode": {
    "name": "ipython",
    "version": 3
   },
   "file_extension": ".py",
   "mimetype": "text/x-python",
   "name": "python",
   "nbconvert_exporter": "python",
   "pygments_lexer": "ipython3",
   "version": "3.7.7"
  },
  "latex_envs": {
   "LaTeX_envs_menu_present": true,
   "autoclose": false,
   "autocomplete": true,
   "bibliofile": "biblio.bib",
   "cite_by": "apalike",
   "current_citInitial": 1,
   "eqLabelWithNumbers": true,
   "eqNumInitial": 1,
   "hotkeys": {
    "equation": "Ctrl-E",
    "itemize": "Ctrl-I"
   },
   "labels_anchors": false,
   "latex_user_defs": false,
   "report_style_numbering": false,
   "user_envs_cfg": false
  }
 },
 "nbformat": 4,
 "nbformat_minor": 2
}
